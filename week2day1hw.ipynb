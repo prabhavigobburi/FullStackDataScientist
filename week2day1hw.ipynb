{
 "cells": [
  {
   "cell_type": "code",
   "execution_count": 1,
   "id": "0b0d0562",
   "metadata": {},
   "outputs": [
    {
     "name": "stdout",
     "output_type": "stream",
     "text": [
      "[0, 1, 1, 2, 3, 5, 8]\n"
     ]
    }
   ],
   "source": [
    "def fib(n):\n",
    "    seq = [0, 1]\n",
    "    for i in range(2, n):\n",
    "        seq.append(seq[-1] + seq[-2])\n",
    "    return seq[:n]\n",
    "\n",
    "print(fib(7))\n"
   ]
  },
  {
   "cell_type": "code",
   "execution_count": 3,
   "id": "600afa85",
   "metadata": {},
   "outputs": [
    {
     "name": "stdout",
     "output_type": "stream",
     "text": [
      "120\n"
     ]
    }
   ],
   "source": [
    "def fact(n):\n",
    "    if n == 0 or n == 1:\n",
    "        return 1\n",
    "    return n * fact(n - 1)\n",
    "\n",
    "print(fact(5))\n"
   ]
  },
  {
   "cell_type": "code",
   "execution_count": 4,
   "id": "94e7baf8",
   "metadata": {},
   "outputs": [
    {
     "name": "stdout",
     "output_type": "stream",
     "text": [
      "{'apple': 2, 'banana': 2, 'orange': 1}\n"
     ]
    }
   ],
   "source": [
    "def word_count(sentence):\n",
    "    words = sentence.split()\n",
    "    count = {}\n",
    "    for w in words:\n",
    "        count[w] = count.get(w, 0) + 1\n",
    "    return count\n",
    "\n",
    "print(word_count(\"apple banana apple orange banana\"))\n"
   ]
  },
  {
   "cell_type": "code",
   "execution_count": 5,
   "id": "fce3a28f",
   "metadata": {},
   "outputs": [
    {
     "name": "stdout",
     "output_type": "stream",
     "text": [
      "Grade: A\n"
     ]
    }
   ],
   "source": [
    "def grade(marks):\n",
    "    avg = sum(marks) / len(marks)\n",
    "    if avg >= 90:\n",
    "        return \"Grade: A+\"\n",
    "    elif avg >= 80:\n",
    "        return \"Grade: A\"\n",
    "    elif avg >= 70:\n",
    "        return \"Grade: B\"\n",
    "    elif avg >= 60:\n",
    "        return \"Grade: C\"\n",
    "    else:\n",
    "        return \"Grade: F\"\n",
    "\n",
    "print(grade([85, 90, 78]))\n"
   ]
  },
  {
   "cell_type": "code",
   "execution_count": 6,
   "id": "8b8b9d2c",
   "metadata": {},
   "outputs": [
    {
     "name": "stdout",
     "output_type": "stream",
     "text": [
      "10\n"
     ]
    }
   ],
   "source": [
    "def second_largest(nums):\n",
    "    nums = list(set(nums))\n",
    "    nums.sort()\n",
    "    return nums[-2]\n",
    "\n",
    "print(second_largest([10, 5, 20, 8]))"
   ]
  },
  {
   "cell_type": "code",
   "execution_count": 7,
   "id": "881e28ee",
   "metadata": {},
   "outputs": [
    {
     "name": "stdout",
     "output_type": "stream",
     "text": [
      "Text files: 2\n",
      "Python files: 2\n"
     ]
    }
   ],
   "source": [
    "import os\n",
    "\n",
    "files = [\"notes.txt\", \"app.py\", \"data.csv\", \"report.txt\", \"main.py\"]\n",
    "txt_count = sum(1 for f in files if f.endswith(\".txt\"))\n",
    "py_count = sum(1 for f in files if f.endswith(\".py\"))\n",
    "\n",
    "print(\"Text files:\", txt_count)\n",
    "print(\"Python files:\", py_count)"
   ]
  },
  {
   "cell_type": "code",
   "execution_count": 8,
   "id": "6ebc5284",
   "metadata": {},
   "outputs": [
    {
     "name": "stdout",
     "output_type": "stream",
     "text": [
      "Mean = 87.86\n",
      "Median = 90\n",
      "Variance = 73.81\n"
     ]
    }
   ],
   "source": [
    "import statistics\n",
    "\n",
    "scores = [75, 80, 90, 100, 85, 90, 95]\n",
    "print(\"Mean =\", round(statistics.mean(scores), 2))\n",
    "print(\"Median =\", statistics.median(scores))\n",
    "print(\"Variance =\", round(statistics.variance(scores), 2))"
   ]
  },
  {
   "cell_type": "code",
   "execution_count": 9,
   "id": "332436c0",
   "metadata": {},
   "outputs": [
    {
     "name": "stdout",
     "output_type": "stream",
     "text": [
      "Roots are: (2.0, 1.0)\n"
     ]
    }
   ],
   "source": [
    "import math\n",
    "\n",
    "def quadratic(a, b, c):\n",
    "    d = b**2 - 4*a*c\n",
    "    root1 = (-b + math.sqrt(d)) / (2*a)\n",
    "    root2 = (-b - math.sqrt(d)) / (2*a)\n",
    "    return root1, root2\n",
    "\n",
    "print(\"Roots are:\", quadratic(1, -3, 2))"
   ]
  },
  {
   "cell_type": "code",
   "execution_count": 11,
   "id": "c356c96a",
   "metadata": {},
   "outputs": [
    {
     "name": "stdout",
     "output_type": "stream",
     "text": [
      "You chose Rock, Computer chose Scissors\n",
      "You Win!\n"
     ]
    }
   ],
   "source": [
    "import random\n",
    "\n",
    "choices = [\"Rock\", \"Paper\", \"Scissors\"]\n",
    "user = \"Rock\"   \n",
    "comp = random.choice(choices)\n",
    "\n",
    "print(f\"You chose {user}, Computer chose {comp}\")\n",
    "\n",
    "if user == comp:\n",
    "    print(\"It's a Tie!\")\n",
    "elif (user == \"Rock\" and comp == \"Scissors\") or \\\n",
    "     (user == \"Paper\" and comp == \"Rock\") or \\\n",
    "     (user == \"Scissors\" and comp == \"Paper\"):\n",
    "    print(\"You Win!\")\n",
    "else:\n",
    "    print(\"You Lose!\")\n"
   ]
  },
  {
   "cell_type": "code",
   "execution_count": 13,
   "id": "f3403fa2",
   "metadata": {},
   "outputs": [
    {
     "name": "stdout",
     "output_type": "stream",
     "text": [
      "Sum = 30\n"
     ]
    }
   ],
   "source": [
    "import sys\n",
    "sys.argv = [\"add.py\", \"5\", \"10\", \"15\"]\n",
    "args = sys.argv[1:]\n",
    "nums = list(map(int, args))\n",
    "print(\"Sum =\", sum(nums))\n"
   ]
  },
  {
   "cell_type": "code",
   "execution_count": 14,
   "id": "974980e0",
   "metadata": {},
   "outputs": [
    {
     "name": "stdout",
     "output_type": "stream",
     "text": [
      "You borrowed Python 101\n",
      "You returned Python 101\n",
      "Available books: {'Python 101': 3, 'Data Science': 2}\n"
     ]
    }
   ],
   "source": [
    "class Library:\n",
    "    def __init__(self, books):\n",
    "        self.books = books\n",
    "\n",
    "    def borrow(self, title):\n",
    "        if self.books.get(title, 0) > 0:\n",
    "            self.books[title] -= 1\n",
    "            return f\"You borrowed {title}\"\n",
    "        return \"Not available\"\n",
    "\n",
    "    def return_book(self, title):\n",
    "        if title in self.books:\n",
    "            self.books[title] += 1\n",
    "        else:\n",
    "            self.books[title] = 1\n",
    "        return f\"You returned {title}\"\n",
    "\n",
    "    def show_books(self):\n",
    "        print(\"Available books:\", self.books)\n",
    "\n",
    "\n",
    "lib = Library({\"Python 101\": 3, \"Data Science\": 2})\n",
    "print(lib.borrow(\"Python 101\"))\n",
    "print(lib.return_book(\"Python 101\"))\n",
    "lib.show_books()\n"
   ]
  },
  {
   "cell_type": "code",
   "execution_count": 15,
   "id": "c3abc245",
   "metadata": {},
   "outputs": [
    {
     "name": "stdout",
     "output_type": "stream",
     "text": [
      "Access Granted\n",
      "Deposited 200\n",
      "Withdrew 100\n",
      "Balance: 600\n"
     ]
    }
   ],
   "source": [
    "class ATM:\n",
    "    def __init__(self, pin, balance):\n",
    "        self.pin = pin\n",
    "        self.balance = balance\n",
    "        self.is_authenticated = False\n",
    "\n",
    "    def login(self, pin):\n",
    "        if pin == self.pin:\n",
    "            self.is_authenticated = True\n",
    "            return \"Access Granted\"\n",
    "        return \"Access Denied\"\n",
    "\n",
    "    def check_balance(self):\n",
    "        if self.is_authenticated:\n",
    "            return f\"Balance: {self.balance}\"\n",
    "\n",
    "    def deposit(self, amount):\n",
    "        if self.is_authenticated:\n",
    "            self.balance += amount\n",
    "            return f\"Deposited {amount}\"\n",
    "\n",
    "    def withdraw(self, amount):\n",
    "        if self.is_authenticated and self.balance >= amount:\n",
    "            self.balance -= amount\n",
    "            return f\"Withdrew {amount}\"\n",
    "        return \"Insufficient Balance\"\n",
    "\n",
    "\n",
    "atm = ATM(1234, 500)\n",
    "print(atm.login(1234))\n",
    "print(atm.deposit(200))\n",
    "print(atm.withdraw(100))\n",
    "print(atm.check_balance())"
   ]
  },
  {
   "cell_type": "code",
   "execution_count": 17,
   "id": "1aa46408",
   "metadata": {},
   "outputs": [
    {
     "name": "stdout",
     "output_type": "stream",
     "text": [
      "tekworks is teaching Python\n",
      "prabhavi enrolled in Python\n",
      "tekworks assigned: Project 1\n",
      "prabhavi submitted: Project 1\n"
     ]
    }
   ],
   "source": [
    "class Professor:\n",
    "    def __init__(self, name, subject):\n",
    "        self.name = name\n",
    "        self.subject = subject\n",
    "\n",
    "    def teach(self, course):\n",
    "        return f\"{self.name} is teaching {course}\"\n",
    "\n",
    "    def give_assignment(self, task):\n",
    "        return f\"{self.name} assigned: {task}\"\n",
    "\n",
    "\n",
    "class Student:\n",
    "    def __init__(self, name):\n",
    "        self.name = name\n",
    "        self.courses = []\n",
    "        self.assignments = []\n",
    "\n",
    "    def enroll(self, course):\n",
    "        self.courses.append(course)\n",
    "        return f\"{self.name} enrolled in {course}\"\n",
    "\n",
    "    def submit_assignment(self, task):\n",
    "        self.assignments.append(task)\n",
    "        return f\"{self.name} submitted: {task}\"\n",
    "\n",
    "\n",
    "prof = Professor(\"tekworks\", \"Computer Science\")\n",
    "stud = Student(\"prabhavi\")\n",
    "print(prof.teach(\"Python\"))\n",
    "print(stud.enroll(\"Python\"))\n",
    "print(prof.give_assignment(\"Project 1\"))\n",
    "print(stud.submit_assignment(\"Project 1\"))\n"
   ]
  },
  {
   "cell_type": "code",
   "execution_count": 18,
   "id": "a9a531eb",
   "metadata": {},
   "outputs": [
    {
     "name": "stdout",
     "output_type": "stream",
     "text": [
      "Booked 2 tickets for Avatar\n",
      "Cancelled 1 ticket for Avatar\n",
      "Movies: {'Avatar': 9, 'Batman': 5}\n"
     ]
    }
   ],
   "source": [
    "class Cinema:\n",
    "    def __init__(self, movies):\n",
    "        self.movies = movies\n",
    "\n",
    "    def book(self, movie, seats):\n",
    "        if self.movies.get(movie, 0) >= seats:\n",
    "            self.movies[movie] -= seats\n",
    "            return f\"Booked {seats} tickets for {movie}\"\n",
    "        return \"Not enough seats\"\n",
    "\n",
    "    def cancel(self, movie, seats):\n",
    "        self.movies[movie] += seats\n",
    "        return f\"Cancelled {seats} ticket for {movie}\"\n",
    "\n",
    "    def show_movies(self):\n",
    "        print(\"Movies:\", self.movies)\n",
    "\n",
    "\n",
    "cinema = Cinema({\"Avatar\": 10, \"Batman\": 5})\n",
    "print(cinema.book(\"Avatar\", 2))\n",
    "print(cinema.cancel(\"Avatar\", 1))\n",
    "cinema.show_movies()\n"
   ]
  },
  {
   "cell_type": "code",
   "execution_count": 19,
   "id": "03eed5eb",
   "metadata": {},
   "outputs": [
    {
     "name": "stdout",
     "output_type": "stream",
     "text": [
      "Burger added\n",
      "Pizza added\n",
      "Pizza price updated to 250\n",
      "Burger removed\n",
      "Menu: {'Pizza': 250}\n"
     ]
    }
   ],
   "source": [
    "class Menu:\n",
    "    def __init__(self):\n",
    "        self.items = {}\n",
    "\n",
    "    def add_item(self, name, price):\n",
    "        self.items[name] = price\n",
    "        return f\"{name} added\"\n",
    "\n",
    "    def remove_item(self, name):\n",
    "        if name in self.items:\n",
    "            del self.items[name]\n",
    "            return f\"{name} removed\"\n",
    "        return \"Item not found\"\n",
    "\n",
    "    def update_price(self, name, new_price):\n",
    "        if name in self.items:\n",
    "            self.items[name] = new_price\n",
    "            return f\"{name} price updated to {new_price}\"\n",
    "        return \"Item not found\"\n",
    "\n",
    "    def show_menu(self):\n",
    "        print(\"Menu:\", self.items)\n",
    "\n",
    "\n",
    "menu = Menu()\n",
    "print(menu.add_item(\"Burger\", 100))\n",
    "print(menu.add_item(\"Pizza\", 200))\n",
    "print(menu.update_price(\"Pizza\", 250))\n",
    "print(menu.remove_item(\"Burger\"))\n",
    "menu.show_menu()\n"
   ]
  }
 ],
 "metadata": {
  "kernelspec": {
   "display_name": "Python 3",
   "language": "python",
   "name": "python3"
  },
  "language_info": {
   "codemirror_mode": {
    "name": "ipython",
    "version": 3
   },
   "file_extension": ".py",
   "mimetype": "text/x-python",
   "name": "python",
   "nbconvert_exporter": "python",
   "pygments_lexer": "ipython3",
   "version": "3.11.0"
  }
 },
 "nbformat": 4,
 "nbformat_minor": 5
}
