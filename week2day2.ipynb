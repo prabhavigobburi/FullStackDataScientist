{
 "cells": [
  {
   "cell_type": "code",
   "execution_count": 10,
   "id": "0eab19ba",
   "metadata": {},
   "outputs": [
    {
     "name": "stdout",
     "output_type": "stream",
     "text": [
      "Total number of words: 12\n"
     ]
    }
   ],
   "source": [
    "def count_words(filename):\n",
    "    try:\n",
    "        with open(filename, \"r\") as file:\n",
    "            text = file.read()\n",
    "            words = text.split()\n",
    "            return len(words)\n",
    "    except FileNotFoundError:\n",
    "        print(\"File not found!\")\n",
    "        return 0\n",
    "\n",
    "filename = \"sample.txt\" \n",
    "word_count = count_words(filename)\n",
    "print(\"Total number of words:\", word_count)"
   ]
  },
  {
   "cell_type": "code",
   "execution_count": 11,
   "id": "99964854",
   "metadata": {},
   "outputs": [
    {
     "name": "stdout",
     "output_type": "stream",
     "text": [
      "weak password\n"
     ]
    }
   ],
   "source": [
    "import re\n",
    "password=input(\"Enter a password: \")\n",
    "if(len(password)>8\n",
    "   and re.search(r\"[A-Z]\",password)\n",
    "   and re.search(r\"[0-9]\",password)\n",
    "   and re.search(r\"[a-z]\",password)\n",
    "   and re.search(r\"[@$!%*?&]\", password)\n",
    "   ):\n",
    "    print(\"strong password\")\n",
    "else:\n",
    "    print(\"weak password\")"
   ]
  },
  {
   "cell_type": "code",
   "execution_count": 12,
   "id": "12674b25",
   "metadata": {},
   "outputs": [
    {
     "name": "stdout",
     "output_type": "stream",
     "text": [
      "Result: 4.0\n"
     ]
    }
   ],
   "source": [
    "a = float(input(\"Enter first number: \"))\n",
    "b = float(input(\"Enter second number: \"))\n",
    "op = input(\"Enter operator (+,-,*,/): \")\n",
    "if op == \"+\": print(\"Result:\", a+b)\n",
    "elif op == \"-\": print(\"Result:\", a-b)\n",
    "elif op == \"*\": print(\"Result:\", a*b)\n",
    "elif op == \"/\": print(\"Result:\", a/b)\n",
    "else: print(\"Invalid operator\")"
   ]
  },
  {
   "cell_type": "code",
   "execution_count": 13,
   "id": "1f016143",
   "metadata": {},
   "outputs": [
    {
     "name": "stdout",
     "output_type": "stream",
     "text": [
      "Duplicates: {'A', 'B'}\n"
     ]
    }
   ],
   "source": [
    "names = [\"A\", \"B\", \"A\", \"C\", \"B\"]\n",
    "dupes = set([x for x in names if names.count(x) > 1])\n",
    "print(\"Duplicates:\", dupes)"
   ]
  },
  {
   "cell_type": "code",
   "execution_count": 14,
   "id": "81cb4b7b",
   "metadata": {},
   "outputs": [
    {
     "name": "stdout",
     "output_type": "stream",
     "text": [
      "Fahrenheit: 96.8\n"
     ]
    }
   ],
   "source": [
    "choice = input(\"Convert (C/F): \")\n",
    "temp = float(input(\"Enter temperature: \"))\n",
    "if choice.upper() == \"C\":\n",
    "    print(\"Fahrenheit:\", (temp*9/5)+32)\n",
    "else:\n",
    "    print(\"Celsius:\", (temp-32)*5/9)"
   ]
  },
  {
   "cell_type": "code",
   "execution_count": 16,
   "id": "de4d2e09",
   "metadata": {},
   "outputs": [
    {
     "name": "stdout",
     "output_type": "stream",
     "text": [
      "Max: 333\n"
     ]
    }
   ],
   "source": [
    "l=list(map(int,input().split()))\n",
    "print(\"Max: \"+ str(max(l)))"
   ]
  },
  {
   "cell_type": "code",
   "execution_count": null,
   "id": "7ae7fed4",
   "metadata": {},
   "outputs": [
    {
     "name": "stdout",
     "output_type": "stream",
     "text": [
      "Simple Interest: 3.2344\n"
     ]
    }
   ],
   "source": [
    "p = float(input(\"Principal: \"))\n",
    "r = float(input(\"Rate: \"))\n",
    "t = float(input(\"Time: \"))\n",
    "print(\"Simple Interest:\", (p*r*t)/100)\n"
   ]
  },
  {
   "cell_type": "code",
   "execution_count": null,
   "id": "5881dbc5",
   "metadata": {},
   "outputs": [
    {
     "name": "stdout",
     "output_type": "stream",
     "text": [
      "Defaulters: ['Sam', 'Raj']\n"
     ]
    }
   ],
   "source": [
    "students = {\"Ram\": 80, \"Sam\": 70, \"Raj\": 60}\n",
    "defaulters = [name for name, att in students.items() if att < 75]\n",
    "print(\"Defaulters:\", defaulters)"
   ]
  },
  {
   "cell_type": "code",
   "execution_count": null,
   "id": "76112b10",
   "metadata": {},
   "outputs": [
    {
     "name": "stdout",
     "output_type": "stream",
     "text": [
      "Sum of digits: 10\n"
     ]
    }
   ],
   "source": [
    "n = 1234\n",
    "print(\"Sum of digits:\", sum(int(d) for d in str(n)))"
   ]
  },
  {
   "cell_type": "code",
   "execution_count": null,
   "id": "4638dce2",
   "metadata": {},
   "outputs": [
    {
     "name": "stdout",
     "output_type": "stream",
     "text": [
      "Prime\n"
     ]
    }
   ],
   "source": [
    "n = int(input(\"Enter number: \"))\n",
    "if n > 1 and all(n%i!=0 for i in range(2,int(n**0.5)+1)):\n",
    "    print(\"Prime\")\n",
    "else:\n",
    "    print(\"Not prime\")"
   ]
  },
  {
   "cell_type": "code",
   "execution_count": null,
   "id": "a6d6eb22",
   "metadata": {},
   "outputs": [
    {
     "name": "stdout",
     "output_type": "stream",
     "text": [
      "Smallest: 1 Largest: 9\n"
     ]
    }
   ],
   "source": [
    "nums = [4, 1, 9, 2, 7]\n",
    "print(\"Smallest:\", min(nums), \"Largest:\", max(nums))"
   ]
  },
  {
   "cell_type": "code",
   "execution_count": null,
   "id": "a4b2cd33",
   "metadata": {},
   "outputs": [
    {
     "name": "stdout",
     "output_type": "stream",
     "text": [
      "Bill: 1200\n"
     ]
    }
   ],
   "source": [
    "units = int(input(\"Enter units: \"))\n",
    "bill = 0\n",
    "if units <= 100: bill = units*5\n",
    "elif units <= 200: bill = 100*5 + (units-100)*7\n",
    "else: bill = 100*5 + 100*7 + (units-200)*10\n",
    "print(\"Bill:\", bill)\n"
   ]
  },
  {
   "cell_type": "code",
   "execution_count": null,
   "id": "3b0f8bd0",
   "metadata": {},
   "outputs": [
    {
     "name": "stdout",
     "output_type": "stream",
     "text": [
      "Total bill: 65\n"
     ]
    }
   ],
   "source": [
    "items = {\"Pen\": 10, \"Book\": 50, \"Eraser\": 5}\n",
    "print(\"Total bill:\", sum(items.values()))"
   ]
  },
  {
   "cell_type": "code",
   "execution_count": 17,
   "id": "271b97c2",
   "metadata": {},
   "outputs": [
    {
     "name": "stdout",
     "output_type": "stream",
     "text": [
      "{'h': 1, 'e': 1, 'l': 2, 'o': 1}\n"
     ]
    }
   ],
   "source": [
    "s = \"hello\"\n",
    "freq = {}\n",
    "for ch in s:\n",
    "    freq[ch] = freq.get(ch,0)+1\n",
    "print(freq)\n"
   ]
  },
  {
   "cell_type": "code",
   "execution_count": null,
   "id": "b17a6bc6",
   "metadata": {},
   "outputs": [
    {
     "name": "stdout",
     "output_type": "stream",
     "text": [
      "Largest: 33\n"
     ]
    }
   ],
   "source": [
    "a,b,c = map(int,input(\"Enter 3 numbers: \").split())\n",
    "print(\"Largest:\", max(a,b,c))\n"
   ]
  },
  {
   "cell_type": "code",
   "execution_count": null,
   "id": "a19ddb98",
   "metadata": {},
   "outputs": [
    {
     "name": "stdout",
     "output_type": "stream",
     "text": [
      "['hasini', 'ishithaa', 'prabhavi']\n"
     ]
    }
   ],
   "source": [
    "names=list(map(str,input().split()))\n",
    "print(sorted(names))"
   ]
  },
  {
   "cell_type": "code",
   "execution_count": null,
   "id": "963eb111",
   "metadata": {},
   "outputs": [
    {
     "name": "stdout",
     "output_type": "stream",
     "text": [
      "Reversed: 4321\n"
     ]
    }
   ],
   "source": [
    "n = 1234\n",
    "print(\"Reversed:\", int(str(n)[::-1]))"
   ]
  },
  {
   "cell_type": "code",
   "execution_count": null,
   "id": "ebf06722",
   "metadata": {},
   "outputs": [
    {
     "name": "stdout",
     "output_type": "stream",
     "text": [
      "Positive: 2 Negative: 2 Zero: 2\n"
     ]
    }
   ],
   "source": [
    "nums = [1,-2,0,5,-3,0]\n",
    "pos = sum(1 for x in nums if x>0)\n",
    "neg = sum(1 for x in nums if x<0)\n",
    "zero = nums.count(0)\n",
    "print(\"Positive:\",pos,\"Negative:\",neg,\"Zero:\",zero)"
   ]
  },
  {
   "cell_type": "code",
   "execution_count": null,
   "id": "51ba826b",
   "metadata": {},
   "outputs": [
    {
     "name": "stdout",
     "output_type": "stream",
     "text": [
      "Access granted\n"
     ]
    }
   ],
   "source": [
    "pin = \"1234\"\n",
    "for i in range(3):\n",
    "    attempt = input(\"Enter PIN: \")\n",
    "    if attempt == pin:\n",
    "        print(\"Access granted\")\n",
    "        break\n",
    "else:\n",
    "    print(\"Card blocked\")\n"
   ]
  },
  {
   "cell_type": "code",
   "execution_count": 18,
   "id": "c663d755",
   "metadata": {},
   "outputs": [
    {
     "name": "stdout",
     "output_type": "stream",
     "text": [
      "Cannot divide by zero\n"
     ]
    }
   ],
   "source": [
    "a = int(input(\"Enter num1: \"))\n",
    "b = int(input(\"Enter num2: \"))\n",
    "try:\n",
    "    print(\"Result:\", a/b)\n",
    "except ZeroDivisionError:\n",
    "    print(\"Cannot divide by zero\")\n"
   ]
  },
  {
   "cell_type": "code",
   "execution_count": null,
   "id": "b55e71c0",
   "metadata": {},
   "outputs": [
    {
     "name": "stdout",
     "output_type": "stream",
     "text": [
      "Result: 9.0\n"
     ]
    }
   ],
   "source": [
    "try:\n",
    "    a = int(input(\"Enter num1: \"))\n",
    "    b = int(input(\"Enter num2: \"))\n",
    "    print(\"Result:\", a/b)\n",
    "except ValueError:\n",
    "    print(\"Invalid input! Enter numbers only\")\n",
    "except ZeroDivisionError:\n",
    "    print(\"Division by zero not allowed\")\n",
    "\n"
   ]
  },
  {
   "cell_type": "code",
   "execution_count": null,
   "id": "70b2cd46",
   "metadata": {},
   "outputs": [
    {
     "name": "stdout",
     "output_type": "stream",
     "text": [
      "Total: 600\n",
      "Bill processing finished\n"
     ]
    }
   ],
   "source": [
    "try:\n",
    "    prices = [100,200,300]\n",
    "    total = 0\n",
    "    for p in prices:\n",
    "        total += int(p)\n",
    "    print(\"Total:\", total)\n",
    "except ValueError:\n",
    "    print(\"Invalid input in prices\")\n",
    "finally:\n",
    "    print(\"Bill processing finished\")\n"
   ]
  },
  {
   "cell_type": "code",
   "execution_count": null,
   "id": "389097c6",
   "metadata": {},
   "outputs": [
    {
     "name": "stdout",
     "output_type": "stream",
     "text": [
      "Remaining balance: 0\n"
     ]
    }
   ],
   "source": [
    "balance = 5000\n",
    "amount = int(input(\"Enter withdrawal amount: \"))\n",
    "if amount > balance:\n",
    "    raise Exception(\"Insufficient balance\")\n",
    "else:\n",
    "    balance -= amount\n",
    "    print(\"Remaining balance:\", balance)\n"
   ]
  }
 ],
 "metadata": {
  "kernelspec": {
   "display_name": "Python 3",
   "language": "python",
   "name": "python3"
  },
  "language_info": {
   "codemirror_mode": {
    "name": "ipython",
    "version": 3
   },
   "file_extension": ".py",
   "mimetype": "text/x-python",
   "name": "python",
   "nbconvert_exporter": "python",
   "pygments_lexer": "ipython3",
   "version": "3.11.0"
  }
 },
 "nbformat": 4,
 "nbformat_minor": 5
}
