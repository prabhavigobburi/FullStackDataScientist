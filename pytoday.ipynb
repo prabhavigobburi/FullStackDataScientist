{
 "cells": [
  {
   "cell_type": "code",
   "execution_count": 11,
   "id": "39e894aa",
   "metadata": {},
   "outputs": [
    {
     "name": "stdout",
     "output_type": "stream",
     "text": [
      "Total Bill = (11.0*2) + (14.0*2) + (77.0*1) = 22.0 + 28.0 + 77.0 = 127.0\n"
     ]
    }
   ],
   "source": [
    "p1 = float(input(\"Enter Item1 Price: \"))\n",
    "q1 = int(input(\"Enter Item1 Quantity: \"))\n",
    "\n",
    "p2 = float(input(\"Enter Item2 Price: \"))\n",
    "q2 = int(input(\"Enter Item2 Quantity: \"))\n",
    "\n",
    "p3 = float(input(\"Enter Item3 Price: \"))\n",
    "q3 = int(input(\"Enter Item3 Quantity: \"))\n",
    "\n",
    "t1= p1 * q1\n",
    "t2 = p2 * q2\n",
    "t3 = p3 * q3\n",
    "total_bill = t1 + t2 + t3\n",
    "\n",
    "print(\"Total Bill = ({}*{}) + ({}*{}) + ({}*{}) = {} + {} + {} = {}\".format(\n",
    "    p1, q1,\n",
    "    p2, q2,\n",
    "    p3, q3,\n",
    "    t1, t2, t3,\n",
    "    total_bill\n",
    "))\n"
   ]
  },
  {
   "cell_type": "code",
   "execution_count": 4,
   "id": "c005be4d",
   "metadata": {},
   "outputs": [
    {
     "name": "stdout",
     "output_type": "stream",
     "text": [
      "B\n"
     ]
    }
   ],
   "source": [
    "m=int(input(\"Enter marks:\"))\n",
    "if(m>=90):\n",
    "    print(\"A+\")\n",
    "elif(m>=80 and m<90):\n",
    "    print(\"A\")\n",
    "elif(m>=70 and m<80):\n",
    "    print(\"B\")\n",
    "elif(m>=60 and m<70):\n",
    "    print(\"C\")\n",
    "elif(m<60):\n",
    "    print(\"Fail\")\n",
    "else:\n",
    "    print(\"Invalid marks enter marks again\")\n",
    "    "
   ]
  },
  {
   "cell_type": "code",
   "execution_count": 1,
   "id": "31dd6279",
   "metadata": {},
   "outputs": [
    {
     "name": "stdout",
     "output_type": "stream",
     "text": [
      "Addition = 3\n",
      "Subtraction = -1\n",
      "Multiplication = 2\n",
      "Division = 0.5\n",
      "Modulus = 1\n"
     ]
    }
   ],
   "source": [
    "a=int(input(\"Enter first number:\"))\n",
    "b=int(input(\"Enter second number:\"))\n",
    "\n",
    "print(\"Addition =\",(a+b))\n",
    "print(\"Subtraction =\",(a-b))\n",
    "print(\"Multiplication =\",(a*b))\n",
    "print(\"Division =\",(a/b))\n",
    "print(\"Modulus =\",(a%b))"
   ]
  },
  {
   "cell_type": "code",
   "execution_count": 7,
   "id": "ada71762",
   "metadata": {},
   "outputs": [
    {
     "name": "stdout",
     "output_type": "stream",
     "text": [
      "44\n",
      "12\n",
      "31\n"
     ]
    }
   ],
   "source": [
    "import statistics\n",
    "marks=list(map(int,input().split()))\n",
    "print(max(marks))\n",
    "print(min(marks))\n",
    "print(statistics.mean(marks))\n"
   ]
  },
  {
   "cell_type": "code",
   "execution_count": 18,
   "id": "87ab3a1b",
   "metadata": {},
   "outputs": [
    {
     "name": "stdout",
     "output_type": "stream",
     "text": [
      "Phone Number of prabs : 123444\n"
     ]
    }
   ],
   "source": [
    "phonebook = {}\n",
    "n = int(input(\"How many contacts? \"))\n",
    "\n",
    "for i in range(n):\n",
    "    name = input(\"Enter name: \")\n",
    "    number = int(input(\"Enter number: \"))\n",
    "    phonebook[name] = number\n",
    "\n",
    "s = input(\"Enter name to search: \")\n",
    "\n",
    "if s in phonebook:\n",
    "    print(\"Phone Number of\", s, \":\", phonebook[s])\n",
    "else:\n",
    "    print(\"Name not found in phonebook\")\n"
   ]
  },
  {
   "cell_type": "code",
   "execution_count": 19,
   "id": "84b04c83",
   "metadata": {},
   "outputs": [
    {
     "name": "stdout",
     "output_type": "stream",
     "text": [
      "Total Words = 5\n",
      "Total Characters = 18\n",
      "Total Vowels = 6\n"
     ]
    }
   ],
   "source": [
    "sentence = input(\"Enter sentence: \")\n",
    "words = sentence.split()\n",
    "vowels = \"aeiouAEIOU\"\n",
    "vowel_count = sum(1 for ch in sentence if ch in vowels)\n",
    "print(\"Total Words =\", len(words))\n",
    "print(\"Total Characters =\", len(sentence))\n",
    "print(\"Total Vowels =\", vowel_count)"
   ]
  },
  {
   "cell_type": "code",
   "execution_count": 20,
   "id": "8f748bd3",
   "metadata": {},
   "outputs": [
    {
     "name": "stdout",
     "output_type": "stream",
     "text": [
      "Simple Interest = 46.0\n",
      "Total Amount = 146.0\n"
     ]
    }
   ],
   "source": [
    "p = float(input(\"Principal = \"))\n",
    "r = float(input(\"Rate = \"))\n",
    "t = float(input(\"Time = \"))\n",
    "itype = input(\"Interest Type (Simple/Compound) = \")\n",
    "\n",
    "if itype.lower() == \"simple\":\n",
    "    si = (p * r * t) / 100\n",
    "    print(\"Simple Interest =\", si)\n",
    "    print(\"Total Amount =\", p + si)\n",
    "elif itype.lower() == \"compound\":\n",
    "    ci = p * ((1 + r/100)**t - 1)\n",
    "    print(\"Compound Interest =\", round(ci, 2))\n",
    "    print(\"Total Amount =\", round(p + ci, 2))\n",
    "else:\n",
    "    print(\"Invalid Interest Type\")\n"
   ]
  },
  {
   "cell_type": "code",
   "execution_count": 21,
   "id": "4adb9cf0",
   "metadata": {},
   "outputs": [
    {
     "name": "stdout",
     "output_type": "stream",
     "text": [
      "Encrypted Message: vjku\n"
     ]
    }
   ],
   "source": [
    "message = input(\"Message = \")\n",
    "shift = int(input(\"Shift = \"))\n",
    "encrypted = \"\"\n",
    "\n",
    "for ch in message:\n",
    "    if ch.isalpha():\n",
    "        base = ord('A') if ch.isupper() else ord('a')\n",
    "        encrypted += chr((ord(ch) - base + shift) % 26 + base)\n",
    "    else:\n",
    "        encrypted += ch\n",
    "\n",
    "print(\"Encrypted Message:\", encrypted)\n"
   ]
  },
  {
   "cell_type": "code",
   "execution_count": 22,
   "id": "9410bd32",
   "metadata": {},
   "outputs": [
    {
     "name": "stdout",
     "output_type": "stream",
     "text": [
      "PIN Verified.\n",
      "Withdrawal Successful. Remaining Balance = 4800\n"
     ]
    }
   ],
   "source": [
    "pin = 1234\n",
    "balance = 5000\n",
    "\n",
    "entered_pin = int(input(\"Enter PIN: \"))\n",
    "if entered_pin == pin:\n",
    "    print(\"PIN Verified.\")\n",
    "    withdraw = int(input(\"Withdraw = \"))\n",
    "    if withdraw <= balance:\n",
    "        balance -= withdraw\n",
    "        print(\"Withdrawal Successful. Remaining Balance =\", balance)\n",
    "    else:\n",
    "        print(\"Insufficient Balance\")\n",
    "else:\n",
    "    print(\"Invalid PIN\")\n"
   ]
  },
  {
   "cell_type": "code",
   "execution_count": 23,
   "id": "780e34a1",
   "metadata": {},
   "outputs": [
    {
     "name": "stdout",
     "output_type": "stream",
     "text": [
      "Initial Books: ['Python Basics', 'Data Science', 'AI Fundamentals']\n",
      "Current Books: ['Python Basics', 'Data Science', 'AI Fundamentals', 'css']\n",
      "Total Books: 4\n"
     ]
    }
   ],
   "source": [
    "books = [\"Python Basics\", \"Data Science\", \"AI Fundamentals\"]\n",
    "print(\"Initial Books:\", books)\n",
    "\n",
    "add_book = input(\"Add Book: \")\n",
    "books.append(add_book)\n",
    "\n",
    "remove_book = input(\"Remove Book: \")\n",
    "if remove_book in books:\n",
    "    books.remove(remove_book)\n",
    "\n",
    "print(\"Current Books:\", books)\n",
    "print(\"Total Books:\", len(books))\n"
   ]
  }
 ],
 "metadata": {
  "kernelspec": {
   "display_name": "venv",
   "language": "python",
   "name": "python3"
  },
  "language_info": {
   "codemirror_mode": {
    "name": "ipython",
    "version": 3
   },
   "file_extension": ".py",
   "mimetype": "text/x-python",
   "name": "python",
   "nbconvert_exporter": "python",
   "pygments_lexer": "ipython3",
   "version": "3.11.0"
  }
 },
 "nbformat": 4,
 "nbformat_minor": 5
}
