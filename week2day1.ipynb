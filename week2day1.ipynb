{
 "cells": [
  {
   "cell_type": "code",
   "execution_count": 14,
   "id": "1e9510b6",
   "metadata": {},
   "outputs": [
    {
     "name": "stdout",
     "output_type": "stream",
     "text": [
      "[2, 3, 5, 7, 11, 13, 17, 19]\n"
     ]
    }
   ],
   "source": [
    "def prime(n):\n",
    "    primes = []\n",
    "    for num in range(2, n+1):\n",
    "        for i in range(2, int(num**0.5)+1):\n",
    "            if num % i == 0:\n",
    "                break\n",
    "        else:\n",
    "            primes.append(num)\n",
    "    return primes\n",
    "n=int(input(\"Enter a number:\"))\n",
    "print(prime(n))\n"
   ]
  },
  {
   "cell_type": "code",
   "execution_count": 4,
   "id": "64b1a4a7",
   "metadata": {},
   "outputs": [
    {
     "name": "stdout",
     "output_type": "stream",
     "text": [
      "True\n"
     ]
    }
   ],
   "source": [
    "def is_palindrome(s):\n",
    "    s = ''.join(s.split()).lower()\n",
    "    return s == s[::-1]\n",
    "s=input(\"Enter a string: \")\n",
    "print(is_palindrome(s))\n"
   ]
  },
  {
   "cell_type": "code",
   "execution_count": 5,
   "id": "f6c1726b",
   "metadata": {},
   "outputs": [
    {
     "name": "stdout",
     "output_type": "stream",
     "text": [
      "True\n"
     ]
    }
   ],
   "source": [
    "def is_anagram(word1, word2):\n",
    "    return sorted(word1.lower()) == sorted(word2.lower())\n",
    "word1=input()\n",
    "word2=input()\n",
    "print(is_anagram(word1,word2))"
   ]
  },
  {
   "cell_type": "code",
   "execution_count": 1,
   "id": "65381b73",
   "metadata": {},
   "outputs": [
    {
     "name": "stdout",
     "output_type": "stream",
     "text": [
      "Vowels=2, Consonants=3\n"
     ]
    }
   ],
   "source": [
    "def count_vowels_consonants(s):\n",
    "    vowels = \"aeiou\"\n",
    "    v = sum(1 for ch in s.lower() if ch in vowels)\n",
    "    c = sum(1 for ch in s.lower() if ch.isalpha() and ch not in vowels)\n",
    "    return f\"Vowels={v}, Consonants={c}\"\n",
    "s=input()\n",
    "print(count_vowels_consonants(s))"
   ]
  },
  {
   "cell_type": "code",
   "execution_count": 2,
   "id": "d2f49873",
   "metadata": {},
   "outputs": [
    {
     "name": "stdout",
     "output_type": "stream",
     "text": [
      "blue\n"
     ]
    }
   ],
   "source": [
    "def longest_word(sentence):\n",
    "    words = sentence.split()\n",
    "    return max(words, key=len)\n",
    "s=input(\"Enter a sentence\")\n",
    "print(longest_word(s))"
   ]
  },
  {
   "cell_type": "code",
   "execution_count": 3,
   "id": "3f003d1a",
   "metadata": {},
   "outputs": [
    {
     "name": "stdout",
     "output_type": "stream",
     "text": [
      "k'u/m(-@^3\n"
     ]
    }
   ],
   "source": [
    "import random, string\n",
    "\n",
    "def generate_password(length=6):\n",
    "    chars = string.ascii_letters + string.digits + string.punctuation\n",
    "    return ''.join(random.choice(chars) for _ in range(length))\n",
    "n=int(input(\"Enter password length: \"))\n",
    "print(generate_password(n))\n"
   ]
  },
  {
   "cell_type": "code",
   "execution_count": 4,
   "id": "9f4148cb",
   "metadata": {},
   "outputs": [
    {
     "name": "stdout",
     "output_type": "stream",
     "text": [
      "5.0\n"
     ]
    }
   ],
   "source": [
    "import math\n",
    "\n",
    "def calculator(op, num):\n",
    "    if op == \"sqrt\":\n",
    "        return math.sqrt(num)\n",
    "    elif op == \"factorial\":\n",
    "        return math.factorial(num)\n",
    "    elif op == \"sin\":\n",
    "        return math.sin(num)\n",
    "    elif op == \"cos\":\n",
    "        return math.cos(num)\n",
    "\n",
    "op=input(\"Enter operation: \")\n",
    "num=int(input(\"enter a number: \"))\n",
    "print(calculator(op, num))\n"
   ]
  },
  {
   "cell_type": "code",
   "execution_count": 5,
   "id": "900f950f",
   "metadata": {},
   "outputs": [
    {
     "name": "stdout",
     "output_type": "stream",
     "text": [
      "{'cat': 2, 'dog': 1}\n"
     ]
    }
   ],
   "source": [
    "from collections import Counter\n",
    "\n",
    "def word_frequency(text):\n",
    "    return dict(Counter(text.split()))\n",
    "\n",
    "print(word_frequency(\"cat dog cat\"))"
   ]
  },
  {
   "cell_type": "code",
   "execution_count": 6,
   "id": "bb4466e7",
   "metadata": {},
   "outputs": [
    {
     "name": "stdout",
     "output_type": "stream",
     "text": [
      "Weather: Sunny, Temp: 24°C\n"
     ]
    }
   ],
   "source": [
    "import random\n",
    "\n",
    "def weather_simulator():\n",
    "    weather = random.choice([\"Sunny\", \"Rainy\", \"Cloudy\", \"Windy\"])\n",
    "    temp = random.randint(20, 40)\n",
    "    return f\"Weather: {weather}, Temp: {temp}°C\"\n",
    "\n",
    "print(weather_simulator())\n"
   ]
  },
  {
   "cell_type": "code",
   "execution_count": 8,
   "id": "cad4bee6",
   "metadata": {},
   "outputs": [
    {
     "name": "stdout",
     "output_type": "stream",
     "text": [
      "3\n",
      "2\n",
      "1\n",
      "Time’s up!\n"
     ]
    }
   ],
   "source": [
    "import time\n",
    "\n",
    "def countdown(n):\n",
    "    while n > 0:\n",
    "        print(n)\n",
    "        time.sleep(1)\n",
    "        n -= 1\n",
    "    print(\"Time’s up!\")\n",
    "n=int(input(\"Enter how many seconds you want to count??\"))\n",
    "countdown(n)\n"
   ]
  },
  {
   "cell_type": "code",
   "execution_count": 16,
   "id": "20d5e64a",
   "metadata": {},
   "outputs": [
    {
     "name": "stdout",
     "output_type": "stream",
     "text": [
      "Balance: 120\n"
     ]
    }
   ],
   "source": [
    "class Bank:\n",
    "    def __init__(self, balance=0, owner=\"prabhavi\"):\n",
    "        self.balance = balance\n",
    "        self.owner = owner\n",
    "    def deposit(self, amount):\n",
    "        self.balance += amount\n",
    "    def withdraw(self, amount):\n",
    "        if amount <= self.balance:\n",
    "            self.balance -= amount\n",
    "        else:\n",
    "            print(\"Insufficient funds\")\n",
    "    def get_balance(self):\n",
    "        return f\"Balance: {self.balance}\"\n",
    "\n",
    "acc = Bank(100)\n",
    "acc.deposit(50)\n",
    "acc.withdraw(30)\n",
    "print(acc.get_balance())\n"
   ]
  },
  {
   "cell_type": "code",
   "execution_count": 10,
   "id": "065c6972",
   "metadata": {},
   "outputs": [
    {
     "name": "stdout",
     "output_type": "stream",
     "text": [
      "85.0\n",
      "95\n"
     ]
    }
   ],
   "source": [
    "class Student:\n",
    "    def __init__(self, name, marks):\n",
    "        self.name = name\n",
    "        self.marks = marks\n",
    "    def get_average(self):\n",
    "        return sum(self.marks)/len(self.marks)\n",
    "    def add_mark(self, mark):\n",
    "        self.marks.append(mark)\n",
    "    def get_highest(self):\n",
    "        return max(self.marks)\n",
    "    def get_lowest(self):\n",
    "        return min(self.marks)\n",
    "\n",
    "s = Student(\"Tom\", [90, 80, 85])\n",
    "print(s.get_average())\n",
    "s.add_mark(95)\n",
    "print(s.get_highest())\n"
   ]
  },
  {
   "cell_type": "code",
   "execution_count": 11,
   "id": "801f0e8d",
   "metadata": {},
   "outputs": [
    {
     "name": "stdout",
     "output_type": "stream",
     "text": [
      "10000.0\n"
     ]
    }
   ],
   "source": [
    "class Employee:\n",
    "    def __init__(self, name, salary, role):\n",
    "        self.name = name\n",
    "        self.salary = salary\n",
    "        self.role = role\n",
    "    def bonus(self):\n",
    "        if self.role.lower() == \"manager\":\n",
    "            return self.salary * 0.2\n",
    "        elif self.role.lower() == \"developer\":\n",
    "            return self.salary * 0.1\n",
    "        elif self.role.lower() == \"intern\":\n",
    "            return self.salary * 0.05\n",
    "        else:\n",
    "            return 0\n",
    "\n",
    "m = Employee(\"Alice\", 50000, \"Manager\")\n",
    "print(m.bonus())\n"
   ]
  },
  {
   "cell_type": "code",
   "execution_count": null,
   "id": "3b44464f",
   "metadata": {},
   "outputs": [
    {
     "name": "stdout",
     "output_type": "stream",
     "text": [
      "153.94\n",
      "20\n"
     ]
    }
   ],
   "source": [
    "import math\n",
    "class Shape:\n",
    "    def __init__(self, name):\n",
    "        self.name = name\n",
    "    def area(self):\n",
    "        return 0\n",
    "\n",
    "class Circle(Shape):\n",
    "    def __init__(self, radius):\n",
    "        super().__init__(\"Circle\")\n",
    "        self.radius = radius\n",
    "    def area(self):\n",
    "        return round(math.pi * self.radius**2, 2)\n",
    "\n",
    "class Rectangle(Shape):\n",
    "    def __init__(self, width, height):\n",
    "        super().__init__(\"Rectangle\")\n",
    "        self.width = width\n",
    "        self.height = height\n",
    "    def area(self):\n",
    "        return self.width * self.height\n",
    "\n",
    "c = Circle(7)\n",
    "print(c.area())\n",
    "r = Rectangle(4, 5)\n",
    "print(r.area())\n"
   ]
  },
  {
   "cell_type": "code",
   "execution_count": 13,
   "id": "da880818",
   "metadata": {},
   "outputs": [
    {
     "name": "stdout",
     "output_type": "stream",
     "text": [
      "Total = 2000\n"
     ]
    }
   ],
   "source": [
    "class Order:\n",
    "    def __init__(self):\n",
    "        self.items = {}\n",
    "    def add(self, item, price):\n",
    "        self.items[item] = price\n",
    "    def remove(self, item):\n",
    "        if item in self.items:\n",
    "            del self.items[item]\n",
    "    def calculate_total(self):\n",
    "        return f\"Total = {sum(self.items.values())}\"\n",
    "    def show_items(self):\n",
    "        return self.items\n",
    "\n",
    "order = Order()\n",
    "order.add(\"Shirt\", 500)\n",
    "order.add(\"Shoes\", 1500)\n",
    "print(order.calculate_total())\n"
   ]
  }
 ],
 "metadata": {
  "kernelspec": {
   "display_name": "Python 3",
   "language": "python",
   "name": "python3"
  },
  "language_info": {
   "codemirror_mode": {
    "name": "ipython",
    "version": 3
   },
   "file_extension": ".py",
   "mimetype": "text/x-python",
   "name": "python",
   "nbconvert_exporter": "python",
   "pygments_lexer": "ipython3",
   "version": "3.11.0"
  }
 },
 "nbformat": 4,
 "nbformat_minor": 5
}
