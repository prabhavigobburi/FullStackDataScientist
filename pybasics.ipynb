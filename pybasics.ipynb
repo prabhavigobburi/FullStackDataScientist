{
 "cells": [
  {
   "cell_type": "code",
   "execution_count": 1,
   "id": "df6889ae",
   "metadata": {},
   "outputs": [
    {
     "name": "stdout",
     "output_type": "stream",
     "text": [
      "Second largest number: 78\n"
     ]
    }
   ],
   "source": [
    "nums = [45, 78, 23, 90, 56]\n",
    "largest = second = float('-inf')\n",
    "for n in nums:\n",
    "    if n > largest:\n",
    "        second = largest\n",
    "        largest = n\n",
    "    elif n > second and n != largest:\n",
    "        second = n\n",
    "print(\"Second largest number:\", second)\n"
   ]
  },
  {
   "cell_type": "code",
   "execution_count": 2,
   "id": "e31f1ddb",
   "metadata": {},
   "outputs": [
    {
     "name": "stdout",
     "output_type": "stream",
     "text": [
      "Sum of even numbers from 1 to 50: 650\n"
     ]
    }
   ],
   "source": [
    "s = 0\n",
    "for i in range(2, 51, 2):\n",
    "    s += i\n",
    "print(\"Sum of even numbers from 1 to 50:\", s)\n"
   ]
  },
  {
   "cell_type": "code",
   "execution_count": 3,
   "id": "5898adcc",
   "metadata": {},
   "outputs": [
    {
     "name": "stdout",
     "output_type": "stream",
     "text": [
      "Uppercase: 4\n",
      "Lowercase: 17\n"
     ]
    }
   ],
   "source": [
    "text = \"Hello World! Python Rocks\"\n",
    "upper = lower = 0\n",
    "for ch in text:\n",
    "    if ch.isupper():\n",
    "        upper += 1\n",
    "    elif ch.islower():\n",
    "        lower += 1\n",
    "print(\"Uppercase:\", upper)\n",
    "print(\"Lowercase:\", lower)\n"
   ]
  },
  {
   "cell_type": "code",
   "execution_count": 4,
   "id": "54294962",
   "metadata": {},
   "outputs": [
    {
     "name": "stdout",
     "output_type": "stream",
     "text": [
      "0 1 1 2 3 5 8 13 21 34 "
     ]
    }
   ],
   "source": [
    "n = 10\n",
    "a, b = 0, 1\n",
    "for i in range(n):\n",
    "    print(a, end=\" \")\n",
    "    a, b = b, a+b\n"
   ]
  },
  {
   "cell_type": "code",
   "execution_count": 5,
   "id": "a4dceee1",
   "metadata": {},
   "outputs": [
    {
     "name": "stdout",
     "output_type": "stream",
     "text": [
      "Anagrams\n"
     ]
    }
   ],
   "source": [
    "s1 = \"listen\"\n",
    "s2 = \"silent\"\n",
    "if sorted(s1) == sorted(s2):\n",
    "    print(\"Anagrams\")\n",
    "else:\n",
    "    print(\"Not Anagrams\")\n"
   ]
  },
  {
   "cell_type": "code",
   "execution_count": 6,
   "id": "b1f6d806",
   "metadata": {},
   "outputs": [
    {
     "name": "stdout",
     "output_type": "stream",
     "text": [
      "Perfect number\n"
     ]
    }
   ],
   "source": [
    "num = 28\n",
    "div_sum = 0\n",
    "for i in range(1, num):\n",
    "    if num % i == 0:\n",
    "        div_sum += i\n",
    "print(\"Perfect number\" if div_sum == num else \"Not a perfect number\")\n"
   ]
  },
  {
   "cell_type": "code",
   "execution_count": 7,
   "id": "36edefd3",
   "metadata": {},
   "outputs": [
    {
     "name": "stdout",
     "output_type": "stream",
     "text": [
      "Percentage: 86.6 Grade: B\n"
     ]
    }
   ],
   "source": [
    "marks = [85, 90, 78, 92, 88]\n",
    "percentage = sum(marks) / 5\n",
    "if percentage >= 90:\n",
    "    grade = \"A\"\n",
    "elif percentage >= 75:\n",
    "    grade = \"B\"\n",
    "elif percentage >= 50:\n",
    "    grade = \"C\"\n",
    "else:\n",
    "    grade = \"Fail\"\n",
    "print(\"Percentage:\", percentage, \"Grade:\", grade)\n"
   ]
  },
  {
   "cell_type": "code",
   "execution_count": 8,
   "id": "56e6962b",
   "metadata": {},
   "outputs": [
    {
     "name": "stdout",
     "output_type": "stream",
     "text": [
      "2 3 5 7 11 13 17 19 23 29 31 37 41 43 47 53 59 61 67 71 73 79 83 89 97 "
     ]
    }
   ],
   "source": [
    "for num in range(2, 101):\n",
    "    prime = True\n",
    "    for i in range(2, int(num**0.5)+1):\n",
    "        if num % i == 0:\n",
    "            prime = False\n",
    "            break\n",
    "    if prime:\n",
    "        print(num, end=\" \")\n"
   ]
  },
  {
   "cell_type": "code",
   "execution_count": 9,
   "id": "4a5e28e9",
   "metadata": {},
   "outputs": [
    {
     "name": "stdout",
     "output_type": "stream",
     "text": [
      "Word count: 6\n"
     ]
    }
   ],
   "source": [
    "sentence = \"Python is a powerful programming language\"\n",
    "count = 1\n",
    "for ch in sentence:\n",
    "    if ch == \" \":\n",
    "        count += 1\n",
    "print(\"Word count:\", count)\n"
   ]
  },
  {
   "cell_type": "code",
   "execution_count": 10,
   "id": "29d1ecc2",
   "metadata": {},
   "outputs": [
    {
     "name": "stdout",
     "output_type": "stream",
     "text": [
      "Final ticket price: 180.0\n"
     ]
    }
   ],
   "source": [
    "price = 200\n",
    "age = 65\n",
    "student = \"no\"\n",
    "if student == \"yes\":\n",
    "    price *= 0.8\n",
    "elif age >= 60:\n",
    "    price *= 0.9\n",
    "print(\"Final ticket price:\", price)\n"
   ]
  },
  {
   "cell_type": "code",
   "execution_count": 11,
   "id": "bdb8965b",
   "metadata": {},
   "outputs": [
    {
     "name": "stdout",
     "output_type": "stream",
     "text": [
      "Final amount payable: 500\n"
     ]
    }
   ],
   "source": [
    "cart_total = 450\n",
    "if cart_total > 500:\n",
    "    final = cart_total\n",
    "else:\n",
    "    final = cart_total + 50\n",
    "print(\"Final amount payable:\", final)\n"
   ]
  },
  {
   "cell_type": "code",
   "execution_count": 12,
   "id": "eea77d0d",
   "metadata": {},
   "outputs": [
    {
     "name": "stdout",
     "output_type": "stream",
     "text": [
      "Grade: B\n"
     ]
    }
   ],
   "source": [
    "marks = 82\n",
    "if marks >= 90:\n",
    "    grade = \"A\"\n",
    "elif marks >= 75:\n",
    "    grade = \"B\"\n",
    "elif marks >= 50:\n",
    "    grade = \"C\"\n",
    "else:\n",
    "    grade = \"Fail\"\n",
    "print(\"Grade:\", grade)\n"
   ]
  },
  {
   "cell_type": "code",
   "execution_count": 13,
   "id": "2999c05e",
   "metadata": {},
   "outputs": [
    {
     "name": "stdout",
     "output_type": "stream",
     "text": [
      "Tip: 180.0\n"
     ]
    }
   ],
   "source": [
    "bill = 1200\n",
    "if bill < 500:\n",
    "    tip = bill * 0.05\n",
    "elif bill <= 1000:\n",
    "    tip = bill * 0.10\n",
    "else:\n",
    "    tip = bill * 0.15\n",
    "print(\"Tip:\", tip)\n"
   ]
  },
  {
   "cell_type": "code",
   "execution_count": 14,
   "id": "9e916a01",
   "metadata": {},
   "outputs": [
    {
     "name": "stdout",
     "output_type": "stream",
     "text": [
      "Cheapest option cost: 3200\n"
     ]
    }
   ],
   "source": [
    "months = 7\n",
    "cost1 = months * 500\n",
    "cost2 = (months//6)*2700 + (months%6)*500\n",
    "cost3 = (months//12)*5000 + (months%12)*500\n",
    "print(\"Cheapest option cost:\", min(cost1, cost2, cost3))\n"
   ]
  },
  {
   "cell_type": "code",
   "execution_count": 15,
   "id": "033ad089",
   "metadata": {},
   "outputs": [
    {
     "name": "stdout",
     "output_type": "stream",
     "text": [
      "Eligible\n"
     ]
    }
   ],
   "source": [
    "total = 100\n",
    "attended = 80\n",
    "attendance = (attended / total) * 100\n",
    "print(\"Eligible\" if attendance >= 75 else \"Not eligible\")\n"
   ]
  },
  {
   "cell_type": "code",
   "execution_count": 16,
   "id": "25913cb5",
   "metadata": {},
   "outputs": [
    {
     "name": "stdout",
     "output_type": "stream",
     "text": [
      "Transaction Successful\n"
     ]
    }
   ],
   "source": [
    "amount = 2500\n",
    "if amount % 100 == 0:\n",
    "    print(\"Transaction Successful\")\n",
    "else:\n",
    "    print(\"Transaction Failed\")\n"
   ]
  },
  {
   "cell_type": "code",
   "execution_count": null,
   "id": "958c6572",
   "metadata": {},
   "outputs": [],
   "source": [
    "temp = 18\n",
    "if temp > 35:\n",
    "    print(\"Too hot, stay indoors!\")\n",
    "elif 20 <= temp <= 35:\n",
    "    print(\"Nice weather, go out!\")\n",
    "else:\n",
    "    print(\"It’s cold, wear warm clothes!\")\n"
   ]
  },
  {
   "cell_type": "code",
   "execution_count": 17,
   "id": "2621e052",
   "metadata": {},
   "outputs": [
    {
     "name": "stdout",
     "output_type": "stream",
     "text": [
      "Fine: 50\n"
     ]
    }
   ],
   "source": [
    "days = 7\n",
    "if 1 <= days <= 5:\n",
    "    fine = 10\n",
    "elif 6 <= days <= 10:\n",
    "    fine = 50\n",
    "elif days > 10:\n",
    "    fine = 100\n",
    "else:\n",
    "    fine = 0\n",
    "print(\"Fine:\", fine)\n"
   ]
  },
  {
   "cell_type": "code",
   "execution_count": 18,
   "id": "49012739",
   "metadata": {},
   "outputs": [
    {
     "name": "stdout",
     "output_type": "stream",
     "text": [
      "Bill amount: 1700\n"
     ]
    }
   ],
   "source": [
    "units = 250\n",
    "bill = 0\n",
    "if units <= 100:\n",
    "    bill = units * 5\n",
    "elif units <= 200:\n",
    "    bill = 100*5 + (units-100)*7\n",
    "else:\n",
    "    bill = 100*5 + 100*7 + (units-200)*10\n",
    "print(\"Bill amount:\", bill)\n"
   ]
  }
 ],
 "metadata": {
  "kernelspec": {
   "display_name": "venv",
   "language": "python",
   "name": "python3"
  },
  "language_info": {
   "codemirror_mode": {
    "name": "ipython",
    "version": 3
   },
   "file_extension": ".py",
   "mimetype": "text/x-python",
   "name": "python",
   "nbconvert_exporter": "python",
   "pygments_lexer": "ipython3",
   "version": "3.11.0"
  }
 },
 "nbformat": 4,
 "nbformat_minor": 5
}
