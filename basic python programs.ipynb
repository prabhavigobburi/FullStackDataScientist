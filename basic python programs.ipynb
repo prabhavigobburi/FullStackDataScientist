{
 "cells": [
  {
   "cell_type": "code",
   "execution_count": 1,
   "id": "ea3f4474-9b1d-4e5d-a58f-43281cacd11a",
   "metadata": {},
   "outputs": [
    {
     "name": "stdin",
     "output_type": "stream",
     "text": [
      " 1\n",
      " 2\n"
     ]
    },
    {
     "name": "stdout",
     "output_type": "stream",
     "text": [
      "1 2\n",
      "2 1\n"
     ]
    }
   ],
   "source": [
    "a=input()\n",
    "b=input()\n",
    "print(a,b)\n",
    "a,b=b,a\n",
    "print(a,b)"
   ]
  },
  {
   "cell_type": "code",
   "execution_count": 10,
   "id": "f34491c8-4a56-4a90-8917-1c0d9a6707a3",
   "metadata": {},
   "outputs": [
    {
     "name": "stdin",
     "output_type": "stream",
     "text": [
      "Enter the book title:  titile\n"
     ]
    },
    {
     "name": "stdout",
     "output_type": "stream",
     "text": [
      "Mirror view: elitit\n"
     ]
    }
   ],
   "source": [
    "def reverse_string(input_str):\n",
    "    reversed_str = \"\"\n",
    "    for char in input_str:\n",
    "        reversed_str = char + reversed_str  \n",
    "    return reversed_str\n",
    "book= input(\"Enter the book title: \")\n",
    "rev = reverse_string(book)\n",
    "print(\"Mirror view:\", rev)"
   ]
  },
  {
   "cell_type": "code",
   "execution_count": 8,
   "id": "00eb3a17-ddbe-4fb9-b7f3-dfa31bc8da8a",
   "metadata": {},
   "outputs": [
    {
     "name": "stdin",
     "output_type": "stream",
     "text": [
      "Enter your special number:  153\n"
     ]
    },
    {
     "name": "stdout",
     "output_type": "stream",
     "text": [
      "Access granted: Valid Armstrong number.\n"
     ]
    }
   ],
   "source": [
    "def is_armstrong(number):\n",
    "    num_str = str(number)\n",
    "    num_digits = len(num_str)\n",
    "    total = 0\n",
    "    for digit in num_str:\n",
    "        total += int(digit) ** num_digits\n",
    "    return total == number\n",
    "\n",
    "atm_input = int(input(\"Enter your special number: \"))\n",
    "if is_armstrong(atm_input):\n",
    "    print(\"Access granted: Valid Armstrong number.\")\n",
    "else:\n",
    "    print(\"Access denied: Not an Armstrong number.\")\n"
   ]
  },
  {
   "cell_type": "code",
   "execution_count": 11,
   "id": "f247dc65-ea62-4470-a978-2fc988d1d0be",
   "metadata": {},
   "outputs": [
    {
     "name": "stdin",
     "output_type": "stream",
     "text": [
      "Type your practice sentence:  this is a good day\n"
     ]
    },
    {
     "name": "stdout",
     "output_type": "stream",
     "text": [
      "Vowels: 6\n",
      "Consonants: 8\n"
     ]
    }
   ],
   "source": [
    "def count_vowels_consonants(sentence):\n",
    "    vowels = \"aeiouAEIOU\"\n",
    "    vowel_count = 0\n",
    "    consonant_count = 0\n",
    "    for char in sentence:\n",
    "        if char.isalpha():\n",
    "            if char in vowels:\n",
    "                vowel_count += 1\n",
    "            else:\n",
    "                consonant_count += 1\n",
    "    return vowel_count, consonant_count\n",
    "sentence = input(\"Type your practice sentence: \")\n",
    "vowels, consonants = count_vowels_consonants(sentence)\n",
    "print(f\"Vowels: {vowels}\")\n",
    "print(f\"Consonants: {consonants}\")"
   ]
  },
  {
   "cell_type": "code",
   "execution_count": 14,
   "id": "e21d016b-5c12-4dab-8bd4-c0d1fd462566",
   "metadata": {},
   "outputs": [
    {
     "name": "stdin",
     "output_type": "stream",
     "text": [
      "Enter a number: 3\n"
     ]
    },
    {
     "name": "stdout",
     "output_type": "stream",
     "text": [
      "3*1=3\n",
      "3*2=6\n",
      "3*3=9\n",
      "3*4=12\n",
      "3*5=15\n",
      "3*6=18\n",
      "3*7=21\n",
      "3*8=24\n",
      "3*9=27\n",
      "3*10=30\n"
     ]
    }
   ],
   "source": [
    "num=int(input(\"Enter a number:\"))\n",
    "for i in range(1,11):\n",
    "    print(str(num) + \"*\" + str(i) + \"=\" + str(num*i))\n",
    "    \n",
    "    "
   ]
  },
  {
   "cell_type": "code",
   "execution_count": 18,
   "id": "cdd31d6d-37bd-451e-a093-a4714dcc669b",
   "metadata": {},
   "outputs": [
    {
     "name": "stdin",
     "output_type": "stream",
     "text": [
      "Enter an year: 2016\n"
     ]
    },
    {
     "name": "stdout",
     "output_type": "stream",
     "text": [
      "yes\n"
     ]
    }
   ],
   "source": [
    "year=int(input(\"Enter an year:\"))\n",
    "if(year%4==0):\n",
    "    if (year%100!=0) or (year%400==0):\n",
    "        print(\"yes\")\n",
    "    else:\n",
    "        print(\"no\")\n",
    "else:\n",
    "        print(\"no\")"
   ]
  },
  {
   "cell_type": "code",
   "execution_count": 26,
   "id": "3c95aca4-4b76-43d8-88dc-4feb7137fe5d",
   "metadata": {},
   "outputs": [
    {
     "name": "stdin",
     "output_type": "stream",
     "text": [
      "Enter marks separated by spaces:  12 33 44 55\n"
     ]
    },
    {
     "name": "stdout",
     "output_type": "stream",
     "text": [
      "[12, 33, 44, 55]\n",
      "Maximum mark is: 55\n"
     ]
    }
   ],
   "source": [
    "marks = input(\"Enter marks separated by spaces: \")\n",
    "marks = list(map(int, marks.split())) \n",
    "print(marks)\n",
    "print(\"Maximum mark is:\", max(marks))\n"
   ]
  },
  {
   "cell_type": "code",
   "execution_count": 29,
   "id": "9bfdeef8-459d-4970-8acb-530fbdc3a87f",
   "metadata": {},
   "outputs": [
    {
     "name": "stdin",
     "output_type": "stream",
     "text": [
      " mom\n"
     ]
    },
    {
     "name": "stdout",
     "output_type": "stream",
     "text": [
      "palindrome\n"
     ]
    }
   ],
   "source": [
    "def reverse_string(input_str):\n",
    "    reversed_str = \"\"\n",
    "    for char in input_str:\n",
    "        reversed_str = char + reversed_str  \n",
    "    return reversed_str\n",
    "string=input()\n",
    "rev=reverse_string(string)\n",
    "if string==rev:\n",
    "    print(\"palindrome\")\n",
    "else:\n",
    "    print(\"not a palindrome\")"
   ]
  },
  {
   "cell_type": "code",
   "execution_count": 31,
   "id": "15922615-3137-4ddc-ab28-2823ca18ac8f",
   "metadata": {},
   "outputs": [
    {
     "name": "stdin",
     "output_type": "stream",
     "text": [
      " 5\n"
     ]
    },
    {
     "name": "stdout",
     "output_type": "stream",
     "text": [
      "120\n"
     ]
    }
   ],
   "source": [
    "a=int(input())\n",
    "f=1\n",
    "if a==0:\n",
    "    print(1)\n",
    "else:\n",
    "    for i in range(1,a+1):\n",
    "        f*=i\n",
    "print(f)"
   ]
  },
  {
   "cell_type": "code",
   "execution_count": 32,
   "id": "32d61bb6-012a-44c3-8ec2-1d5a274a4d30",
   "metadata": {},
   "outputs": [
    {
     "name": "stdout",
     "output_type": "stream",
     "text": [
      "15\n",
      "30\n",
      "45\n",
      "60\n",
      "75\n",
      "90\n"
     ]
    }
   ],
   "source": [
    "for i in range(1,101):\n",
    "    if (i%3==0) and (i%5==0):\n",
    "        print(i)"
   ]
  },
  {
   "cell_type": "code",
   "execution_count": 34,
   "id": "d280fb93-2d76-416f-ab40-e39e6172ad26",
   "metadata": {},
   "outputs": [
    {
     "name": "stdin",
     "output_type": "stream",
     "text": [
      " 25\n"
     ]
    },
    {
     "name": "stdout",
     "output_type": "stream",
     "text": [
      "yes\n"
     ]
    }
   ],
   "source": [
    "num=int(input())\n",
    "for i in range(2,num):\n",
    "    if i%num==0:\n",
    "        print(\"no\")\n",
    "print(\"yes\")\n",
    "    "
   ]
  },
  {
   "cell_type": "code",
   "execution_count": null,
   "id": "7cf2e242-9466-41c0-9a43-d21d8548585c",
   "metadata": {},
   "outputs": [],
   "source": []
  }
 ],
 "metadata": {
  "kernelspec": {
   "display_name": "Python 3 (ipykernel)",
   "language": "python",
   "name": "python3"
  },
  "language_info": {
   "codemirror_mode": {
    "name": "ipython",
    "version": 3
   },
   "file_extension": ".py",
   "mimetype": "text/x-python",
   "name": "python",
   "nbconvert_exporter": "python",
   "pygments_lexer": "ipython3",
   "version": "3.13.5"
  }
 },
 "nbformat": 4,
 "nbformat_minor": 5
}
